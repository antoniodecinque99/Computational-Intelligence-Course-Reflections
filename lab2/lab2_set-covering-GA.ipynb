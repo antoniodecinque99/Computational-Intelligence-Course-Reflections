{
 "cells": [
  {
   "cell_type": "markdown",
   "metadata": {
    "pycharm": {
     "name": "#%% md\n"
    }
   },
   "source": [
    "Copyright **`(c)`** 2022 Giovanni Squillero `<squillero@polito.it>`  \n",
    "[`https://github.com/squillero/computational-intelligence`](https://github.com/squillero/computational-intelligence)  \n",
    "Free for personal or classroom use; see [`LICENSE.md`](https://github.com/squillero/computational-intelligence/blob/master/LICENSE.md) for details.  \n"
   ]
  },
  {
   "cell_type": "markdown",
   "metadata": {
    "pycharm": {
     "name": "#%%\n"
    }
   },
   "source": [
    "# Lab 2 : Set Covering using GA\n",
    "\n",
    "## Task\n",
    "\n",
    "Given a number $N$ and some lists of integers $P = (L_0, L_1, L_2, ..., L_n)$, \n",
    "determine, if possible, $S = (L_{s_0}, L_{s_1}, L_{s_2}, ..., L_{s_n})$\n",
    "such that each number between $0$ and $N-1$ appears in at least one list\n",
    "\n",
    "$$\\forall n \\in [0, N-1] \\ \\exists i : n \\in L_{s_i}$$\n",
    "\n",
    "and that the total numbers of elements in all $L_{s_i}$ is minimum. \n",
    "\n",
    "\n",
    "Try to use a GA approach."
   ]
  },
  {
   "cell_type": "code",
   "execution_count": 32,
   "metadata": {},
   "outputs": [],
   "source": [
    "import logging\n",
    "from collections import namedtuple\n",
    "import random"
   ]
  },
  {
   "cell_type": "code",
   "execution_count": 33,
   "metadata": {},
   "outputs": [],
   "source": [
    "POPULATION_SIZE = 1500\n",
    "OFFSPRING_SIZE = 1000\n",
    "\n",
    "NUM_GENERATIONS = 200"
   ]
  },
  {
   "cell_type": "code",
   "execution_count": 34,
   "metadata": {},
   "outputs": [],
   "source": [
    "def distinct(list):\n",
    "   result = []\n",
    "   for l in list:\n",
    "      if l not in result:\n",
    "         result.append(l)\n",
    "   return result"
   ]
  },
  {
   "cell_type": "code",
   "execution_count": 35,
   "metadata": {},
   "outputs": [],
   "source": [
    "Individual = namedtuple(\"Individual\", [\"genome\", \"fitness\"])\n",
    "\n",
    "def coverage(genome, lists):                                        # How many numbers are covered\n",
    "    values = set()\n",
    "    for i in range(len(genome)): \n",
    "        if genome[i] == 1:\n",
    "            values |= set(lists[i])\n",
    "    return len(values)\n",
    "\n",
    "def weight(genome, lists):                                          # Weight of the solution\n",
    "    return sum(genome[i]*len(lists[i]) for i in range(len(lists)))\n",
    "\n",
    "def compute_fitness(genome, lists):\n",
    "    return (coverage(genome, lists), -weight(genome, lists))\n",
    "\n",
    "def tournament(population, tournament_size=2): \n",
    "    return max(random.choices(population, k=tournament_size), key=lambda i: i.fitness) \n",
    "\n",
    "def cross_over(g1, g2):\n",
    "    cut = random.randint(0, len(g1))\n",
    "    return g1[:cut] + g2[cut:]\n",
    "\n",
    "def mutation(g):\n",
    "    point = random.randint(0, len(g) - 1)\n",
    "    return g[:point] + (1 - g[point],) + g[point + 1 :]"
   ]
  },
  {
   "cell_type": "code",
   "execution_count": 36,
   "metadata": {},
   "outputs": [],
   "source": [
    "def problem(N, seed=None):\n",
    "    random.seed(seed)\n",
    "    return [\n",
    "        list(set(random.randint(0, N - 1) for n in range(random.randint(N // 5, N // 2))))\n",
    "        for n in range(random.randint(N, N * 5))\n",
    "    ]"
   ]
  },
  {
   "cell_type": "markdown",
   "metadata": {},
   "source": [
    "## Evolution"
   ]
  },
  {
   "cell_type": "code",
   "execution_count": 37,
   "metadata": {},
   "outputs": [],
   "source": [
    "def my_genetic_algorithm(N, lists, population):\n",
    "    for generation in range(NUM_GENERATIONS):\n",
    "        offspring = list()\n",
    "        for i in range(OFFSPRING_SIZE):\n",
    "            m_rate = 0.3\n",
    "            if random.random() < m_rate:                # MUTATION\n",
    "                p = tournament(population)                  # promising genome\n",
    "                o = mutation(p.genome)                      # promising genome mutated\n",
    "            else:                                       # CROSSOVER\n",
    "                p1 = tournament(population)                 # promising genome 1\n",
    "                p2 = tournament(population)                 # promising genome 2\n",
    "                o = cross_over(p1.genome, p2.genome)    \n",
    "\n",
    "            f = compute_fitness(o, lists)\n",
    "            offspring.append(Individual(o, f))\n",
    "\n",
    "\n",
    "        population += offspring\n",
    "        population = sorted(population, key=lambda i: i.fitness, reverse=True)[:POPULATION_SIZE]\n",
    "\n",
    "        best_so_far = population[0]\n",
    "        if best_so_far.fitness[0] == -best_so_far.fitness[1] and best_so_far.fitness[0] == N:\n",
    "            break\n",
    "\n",
    "    print(f\"#{N} : weight: {-best_so_far.fitness[1]}, bloat: {(-best_so_far.fitness[1]-N)/N*100}, #generations: {generation+1}\")"
   ]
  },
  {
   "cell_type": "code",
   "execution_count": 38,
   "metadata": {},
   "outputs": [
    {
     "name": "stdout",
     "output_type": "stream",
     "text": [
      "#5 : weight: 5, bloat: 0.0, #generations: 3\n",
      "------------\n",
      "#10 : weight: 10, bloat: 0.0, #generations: 7\n",
      "------------\n",
      "#20 : weight: 24, bloat: 20.0, #generations: 200\n",
      "------------\n",
      "#100 : weight: 202, bloat: 102.0, #generations: 200\n",
      "------------\n",
      "#500 : weight: 1610, bloat: 222.00000000000003, #generations: 200\n",
      "------------\n",
      "#1000 : weight: 3600, bloat: 260.0, #generations: 200\n",
      "------------\n"
     ]
    }
   ],
   "source": [
    "logging.getLogger().setLevel(logging.INFO)\n",
    "\n",
    "for N in [5, 10, 20, 100, 500, 1000]:\n",
    "    population = list()\n",
    "    lists = problem(N, 42)\n",
    "    lists = distinct(lists)\n",
    "   \n",
    "    # try to create randomic population, this leads to worse results\n",
    "    # for genome in [tuple([random.choice([1, 0]) for _ in range(len(lists))]) for _ in range(POPULATION_SIZE)]:\n",
    "      #  population.append(Individual(genome, compute_fitness(genome, lists)))\n",
    "    for genome in [tuple([0 for _ in range(len(lists))]) for _ in range(POPULATION_SIZE)]:\n",
    "        population.append(Individual(genome, compute_fitness(genome, lists)))\n",
    "    \n",
    "    my_genetic_algorithm(N, lists, population)\n",
    "    print(\"------------\") "
   ]
  }
 ],
 "metadata": {
  "kernelspec": {
   "display_name": "Python 3.10.7 64-bit",
   "language": "python",
   "name": "python3"
  },
  "language_info": {
   "codemirror_mode": {
    "name": "ipython",
    "version": 3
   },
   "file_extension": ".py",
   "mimetype": "text/x-python",
   "name": "python",
   "nbconvert_exporter": "python",
   "pygments_lexer": "ipython3",
   "version": "3.10.7"
  },
  "vscode": {
   "interpreter": {
    "hash": "385957ba4a504106e89afc93f22f38633e2124f079bb970f9afb051518064e80"
   }
  }
 },
 "nbformat": 4,
 "nbformat_minor": 2
}
