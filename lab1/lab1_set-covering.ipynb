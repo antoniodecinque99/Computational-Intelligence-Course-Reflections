{
 "cells": [
  {
   "cell_type": "markdown",
   "metadata": {
    "pycharm": {
     "name": "#%% md\n"
    }
   },
   "source": [
    "Copyright **`(c)`** 2022 Giovanni Squillero `<squillero@polito.it>`  \n",
    "[`https://github.com/squillero/computational-intelligence`](https://github.com/squillero/computational-intelligence)  \n",
    "Free for personal or classroom use; see [`LICENSE.md`](https://github.com/squillero/computational-intelligence/blob/master/LICENSE.md) for details.  \n"
   ]
  },
  {
   "cell_type": "markdown",
   "metadata": {
    "pycharm": {
     "name": "#%%\n"
    }
   },
   "source": [
    "# Lab 1: Set Covering\n",
    "\n",
    "First lab + peer review. List this activity in your final report, it will be part of your exam.\n",
    "\n",
    "## Task\n",
    "\n",
    "Given a number $N$ and some lists of integers $P = (L_0, L_1, L_2, ..., L_n)$, \n",
    "determine, if possible, $S = (L_{s_0}, L_{s_1}, L_{s_2}, ..., L_{s_n})$\n",
    "such that each number between $0$ and $N-1$ appears in at least one list\n",
    "\n",
    "$$\\forall n \\in [0, N-1] \\ \\exists i : n \\in L_{s_i}$$\n",
    "\n",
    "and that the total numbers of elements in all $L_{s_i}$ is minimum. \n",
    "\n",
    "## Instructions\n",
    "\n",
    "* Create the directory `lab1` inside the course repo (the one you registered with Andrea)\n",
    "* Put a `README.md` and your solution (all the files, code and auxiliary data if needed)\n",
    "* Use `problem` to generate the problems with different $N$\n",
    "* In the `README.md`, report the the total numbers of elements in $L_{s_i}$ for problem with $N \\in [5, 10, 20, 100, 500, 1000]$ and the total number on $nodes$ visited during the search. Use `seed=42`.\n",
    "* Use `GitHub Issues` to peer review others' lab\n",
    "\n",
    "## Notes\n",
    "\n",
    "* Working in group is not only allowed, but recommended (see: [Ubuntu](https://en.wikipedia.org/wiki/Ubuntu_philosophy) and [Cooperative Learning](https://files.eric.ed.gov/fulltext/EJ1096789.pdf)). Collaborations must be explicitly declared in the `README.md`.\n",
    "* [Yanking](https://www.emacswiki.org/emacs/KillingAndYanking) from the internet is allowed, but sources must be explicitly declared in the `README.md`.\n",
    "\n",
    "**Deadline**\n",
    "\n",
    "* Sunday, October 16th 23:59:59 for the working solution\n",
    "* Sunday, October 23rd 23:59:59 for the peer reviews"
   ]
  },
  {
   "cell_type": "code",
   "execution_count": 3,
   "metadata": {},
   "outputs": [],
   "source": [
    "import random"
   ]
  },
  {
   "cell_type": "code",
   "execution_count": 4,
   "metadata": {},
   "outputs": [],
   "source": [
    "def problem(N, seed=None):\n",
    "    random.seed(seed)\n",
    "    return [\n",
    "        list(set(random.randint(0, N - 1) for n in range(random.randint(N // 5, N // 2))))\n",
    "        for n in range(random.randint(N, N * 5))\n",
    "    ]"
   ]
  },
  {
   "cell_type": "code",
   "execution_count": 7,
   "metadata": {},
   "outputs": [],
   "source": [
    "import logging\n",
    "import copy\n",
    "\n",
    "def h(sol, current_x):\n",
    "    common_elements = len(set(sol) & set(current_x))\n",
    "    new_elements = len(current_x) - common_elements\n",
    "\n",
    "    if (new_elements == 0):\n",
    "        return float('inf')\n",
    "\n",
    "    res = common_elements/new_elements\n",
    "    return res\n",
    "\n",
    "def my_greedy(N):\n",
    "    goal = set(range(N))\n",
    "\n",
    "    lists = sorted(problem(N, seed=42), key=lambda l: -len(l))\n",
    "\n",
    "    starting_x = lists.pop(0)\n",
    "    \n",
    "    sol = list()\n",
    "    sol.append(starting_x)\n",
    "    \n",
    "    flat_sol = list(starting_x)\n",
    "    nodes = 1\n",
    "\n",
    "    covered = set(starting_x)\n",
    "    while goal != covered:\n",
    "        most_promising_x = min(lists, key = lambda x: h(flat_sol, x))\n",
    "        lists.remove(most_promising_x)\n",
    "        \n",
    "        flat_sol.extend(most_promising_x)\n",
    "        sol.append(most_promising_x)\n",
    "        nodes = nodes + 1\n",
    "\n",
    "        covered |= set(most_promising_x)\n",
    "\n",
    "    w = len(flat_sol)\n",
    "\n",
    "    logging.info(\n",
    "        f\"Greedy solution for N={N}: w={w} (bloat={(w-N)/N*100:.0f}%) - visited {nodes} nodes\"\n",
    "    )\n",
    "    logging.debug(f\"{sol}\")\n",
    "    return sol"
   ]
  },
  {
   "cell_type": "code",
   "execution_count": 8,
   "metadata": {},
   "outputs": [
    {
     "name": "stderr",
     "output_type": "stream",
     "text": [
      "INFO:root:Greedy solution for N=5: w=5 (bloat=0%) - visited 3 nodes\n",
      "INFO:root:Greedy solution for N=10: w=10 (bloat=0%) - visited 3 nodes\n",
      "INFO:root:Greedy solution for N=20: w=24 (bloat=20%) - visited 4 nodes\n",
      "INFO:root:Greedy solution for N=100: w=182 (bloat=82%) - visited 8 nodes\n",
      "INFO:root:Greedy solution for N=500: w=1262 (bloat=152%) - visited 11 nodes\n",
      "INFO:root:Greedy solution for N=1000: w=2878 (bloat=188%) - visited 13 nodes\n"
     ]
    }
   ],
   "source": [
    "logging.getLogger().setLevel(logging.INFO)\n",
    "\n",
    "approx_results = dict()\n",
    "\n",
    "logging.getLogger().setLevel(logging.INFO)\n",
    "for N in [5, 10, 20, 100, 500, 1000]:\n",
    "    my_greedy(N)\n"
   ]
  }
 ],
 "metadata": {
  "kernelspec": {
   "display_name": "Python 3.9.6 64-bit",
   "language": "python",
   "name": "python3"
  },
  "language_info": {
   "codemirror_mode": {
    "name": "ipython",
    "version": 3
   },
   "file_extension": ".py",
   "mimetype": "text/x-python",
   "name": "python",
   "nbconvert_exporter": "python",
   "pygments_lexer": "ipython3",
   "version": "3.9.6"
  },
  "vscode": {
   "interpreter": {
    "hash": "31f2aee4e71d21fbe5cf8b01ff0e069b9275f58929596ceb00d14d90e3e16cd6"
   }
  }
 },
 "nbformat": 4,
 "nbformat_minor": 2
}
